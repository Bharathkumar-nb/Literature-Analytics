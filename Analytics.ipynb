{
 "cells": [
  {
   "cell_type": "code",
   "execution_count": 82,
   "metadata": {
    "collapsed": true
   },
   "outputs": [],
   "source": [
    "import pandas as pd\n",
    "import numpy as np\n",
    "from geopy.geocoders import Nominatim\n",
    "import os.path"
   ]
  },
  {
   "cell_type": "code",
   "execution_count": 83,
   "metadata": {},
   "outputs": [
    {
     "name": "stdout",
     "output_type": "stream",
     "text": [
      "['Emma Lyon 1812', 'Bolaffey 1820', 'Polack 1830', ' Moss 1839', ' Infant 1841', ' VOJ 1842-45', 'Belisario 1856', 'Project Details']\n"
     ]
    }
   ],
   "source": [
    "xl = pd.ExcelFile(\"data.xlsx\")\n",
    "sheets = xl.sheet_names\n",
    "print(sheets)\n",
    "new_columns = ['Name', 'List_ID', 'Year', 'Reformatted_Name',\n",
    "       'Gender', 'is_from_London', 'London_Street',\n",
    "       'London_Region', 'London_Lat_Long', 'City',\n",
    "       'Non_London_City_Lat_Long', 'Nation', 'Other1', 'Other2']\n",
    "\n",
    "geolocator = Nominatim()"
   ]
  },
  {
   "cell_type": "code",
   "execution_count": 84,
   "metadata": {
    "collapsed": true
   },
   "outputs": [],
   "source": [
    "def get_location(street, region, city):\n",
    "    try:\n",
    "        location = geolocator.geocode(street+' '+region+' '+city, timeout=5)\n",
    "        if location == None:\n",
    "            location = geolocator.geocode(street+' '+city, timeout=5)\n",
    "            if location == None:\n",
    "                location = geolocator.geocode(region+' '+city, timeout=5)\n",
    "                if location == None:\n",
    "                    location = geolocator.geocode(city, timeout=5)\n",
    "        return location\n",
    "    except Exception:\n",
    "        print(Exception)\n",
    "        return None"
   ]
  },
  {
   "cell_type": "code",
   "execution_count": 85,
   "metadata": {},
   "outputs": [],
   "source": [
    "def update_coordinates(df):\n",
    "    new_df = df[df.ix[:,6:8]!=0].ix[:,[6,7]].dropna(axis=0, how='all', subset=['London_Street','London_Region'])\n",
    "    print('Fetching locations................')\n",
    "    for idx in new_df.index:\n",
    "        street = ''\n",
    "        region = ''\n",
    "        city = ''\n",
    "        if not pd.isnull(new_df.loc[idx,'London_Street']):\n",
    "            street = new_df.loc[idx,'London_Street']\n",
    "        if not pd.isnull(new_df.loc[idx,'London_Region']):\n",
    "            region = new_df.loc[idx,'London_Region']\n",
    "        if not pd.isnull(df.iloc[idx,9]) and df.iloc[idx,9]!=0:\n",
    "            city = df.iloc[idx,9]\n",
    "        location = get_location(street, region, city)\n",
    "        if location != None:\n",
    "            print(location)\n",
    "            df.iloc[idx,8] = str(location.latitude) + \", \" + str(location.longitude)"
   ]
  },
  {
   "cell_type": "code",
   "execution_count": 95,
   "metadata": {
    "collapsed": true
   },
   "outputs": [],
   "source": [
    "def update_city(df):\n",
    "    df.loc[df['is_from_London'].isin(['y','Y']),['City']] = 'London'"
   ]
  },
  {
   "cell_type": "code",
   "execution_count": 96,
   "metadata": {
    "scrolled": true
   },
   "outputs": [
    {
     "name": "stdout",
     "output_type": "stream",
     "text": [
      "Processing sheet : Emma Lyon 1812\n",
      "File already exists.\n",
      "Processing sheet : Bolaffey 1820\n",
      "File already exists.\n",
      "Processing sheet : Polack 1830\n",
      "File already exists.\n",
      "Processing sheet :  Moss 1839\n",
      "File already exists.\n",
      "Processing sheet :  Infant 1841\n",
      "File already exists.\n",
      "Processing sheet :  VOJ 1842-45\n",
      "File already exists.\n",
      "Processing sheet : Belisario 1856\n",
      "File already exists.\n",
      "Processing sheet : Project Details\n",
      "File already exists.\n"
     ]
    }
   ],
   "source": [
    "for sheet in sheets:\n",
    "    print('Processing sheet : ' + sheet)\n",
    "    fname = sheet+'.xlsx'\n",
    "    \n",
    "    if os.path.isfile(fname):\n",
    "        print('File already exists.')\n",
    "        continue\n",
    "    \n",
    "    df = xl.parse(sheet)\n",
    "    \n",
    "    df.columns = new_columns + list(df.columns)[len(new_columns):]\n",
    "    \n",
    "    df[['London_Street', 'London_Region', 'is_from_London']].astype(str)\n",
    "    \n",
    "    update_city(df)\n",
    "    update_coordinates(df)\n",
    "    \n",
    "    df.to_excel(fname)    "
   ]
  },
  {
   "cell_type": "code",
   "execution_count": null,
   "metadata": {
    "collapsed": true
   },
   "outputs": [],
   "source": []
  }
 ],
 "metadata": {
  "kernelspec": {
   "display_name": "Python [default]",
   "language": "python",
   "name": "python3"
  },
  "language_info": {
   "codemirror_mode": {
    "name": "ipython",
    "version": 3
   },
   "file_extension": ".py",
   "mimetype": "text/x-python",
   "name": "python",
   "nbconvert_exporter": "python",
   "pygments_lexer": "ipython3",
   "version": "3.5.2"
  }
 },
 "nbformat": 4,
 "nbformat_minor": 2
}
