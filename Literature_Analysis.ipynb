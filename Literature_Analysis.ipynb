{
 "cells": [
  {
   "cell_type": "markdown",
   "metadata": {},
   "source": [
    "# English Literature Analysis"
   ]
  },
  {
   "cell_type": "markdown",
   "metadata": {},
   "source": [
    "## Data Preparation / Data Cleaning"
   ]
  },
  {
   "cell_type": "markdown",
   "metadata": {},
   "source": [
    "### Tasks"
   ]
  },
  {
   "cell_type": "markdown",
   "metadata": {},
   "source": [
    "1. Read all the sheets in excel file(input) to a list of dataframes.\n",
    "2. Standardize the column names.\n",
    "3. Match the names in different sheets and update corresponding addresses.\n",
    " * Mark the conflicts in a different column.\n",
    "4. Update the latitudes and longitudes with same addresses.\n",
    "5. Find the latitudes and longitudes for missing addresses.\n",
    "6. Remove/merge unnecessary columns and create final dataframe."
   ]
  },
  {
   "cell_type": "markdown",
   "metadata": {},
   "source": [
    "### Libraries"
   ]
  },
  {
   "cell_type": "code",
   "execution_count": 1,
   "metadata": {
    "collapsed": true
   },
   "outputs": [],
   "source": [
    "import os.path\n",
    "import pandas as pd\n",
    "import numpy as np\n",
    "from geopy.geocoders import Nominatim # Required to find latitudes and longitudes of places\n",
    "from pandas import ExcelWriter"
   ]
  },
  {
   "cell_type": "markdown",
   "metadata": {},
   "source": [
    "### Important constants"
   ]
  },
  {
   "cell_type": "code",
   "execution_count": 2,
   "metadata": {
    "collapsed": true
   },
   "outputs": [],
   "source": [
    "INPUT_FILE_NAME = 'data/Network Data Lists-7-14.xlsx'\n",
    "OUTPUT_FILE_NAME = 'data/Final_dataset.xlsx'\n",
    "INPUT_COLUMNS = ['Name', 'List_ID', 'Year', 'Reformatted_Name','Gender', 'is_from_London', 'London_Street',\n",
    "                 'London_Region', 'London_Lat_Long', 'City','Non_London_City_Lat_Long', 'Nation']\n",
    "OUTPUT_COLUMNS = ['Name', 'Reformatted_Name', 'List_ID', 'Year','Gender', 'is_from_London', 'London_Street',\n",
    "                 'London_Region', 'City', 'Nation', 'Lat_Long']"
   ]
  },
  {
   "cell_type": "markdown",
   "metadata": {},
   "source": [
    "### 1. Read all the sheets in excel file(input) to a list of dataframes."
   ]
  },
  {
   "cell_type": "code",
   "execution_count": 14,
   "metadata": {
    "collapsed": true
   },
   "outputs": [],
   "source": [
    "# Returns list of dataframes\n",
    "def read_input():\n",
    "    df_list = []\n",
    "    xl = pd.ExcelFile(INPUT_FILE_NAME)\n",
    "    sheets = xl.sheet_names\n",
    "    sheets = sheets[:-1]        # Remove last sheet(Project Details)\n",
    "    print(\"Sheets in dataframe\")\n",
    "    print(sheets)\n",
    "    for i in range(len(sheets)):\n",
    "        df = xl.parse(sheets[i])\n",
    "        df_list.append(df)\n",
    "    return df_list"
   ]
  },
  {
   "cell_type": "markdown",
   "metadata": {},
   "source": [
    "## Client"
   ]
  },
  {
   "cell_type": "code",
   "execution_count": 15,
   "metadata": {},
   "outputs": [
    {
     "name": "stdout",
     "output_type": "stream",
     "text": [
      "Sheets in dataframe\n",
      "['Emma Lyon 1812', 'Bolaffey 1820', 'Polack 1830', ' Moss 1839', ' Infant 1841', ' VOJ 1842-45', 'Belisario 1856']\n"
     ]
    }
   ],
   "source": [
    "df_list = read_input()"
   ]
  },
  {
   "cell_type": "code",
   "execution_count": null,
   "metadata": {
    "collapsed": true
   },
   "outputs": [],
   "source": []
  }
 ],
 "metadata": {
  "kernelspec": {
   "display_name": "Python [default]",
   "language": "python",
   "name": "python3"
  },
  "language_info": {
   "codemirror_mode": {
    "name": "ipython",
    "version": 3
   },
   "file_extension": ".py",
   "mimetype": "text/x-python",
   "name": "python",
   "nbconvert_exporter": "python",
   "pygments_lexer": "ipython3",
   "version": "3.5.2"
  }
 },
 "nbformat": 4,
 "nbformat_minor": 2
}
