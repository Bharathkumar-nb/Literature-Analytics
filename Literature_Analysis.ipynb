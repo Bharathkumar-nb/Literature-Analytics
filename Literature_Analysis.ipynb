{
 "cells": [
  {
   "cell_type": "markdown",
   "metadata": {},
   "source": [
    "# English Literature Analysis"
   ]
  },
  {
   "cell_type": "markdown",
   "metadata": {},
   "source": [
    "## Data Preparation / Data Cleaning"
   ]
  },
  {
   "cell_type": "markdown",
   "metadata": {},
   "source": [
    "### Tasks"
   ]
  },
  {
   "cell_type": "markdown",
   "metadata": {},
   "source": [
    "1. Read all the sheets in excel file(input) to a list of dataframes.\n",
    "2. Standardize the column names.\n",
    "3. Match the names in different sheets and update corresponding addresses.\n",
    " * Mark the conflicts in a different column.\n",
    "4. Update the latitudes and longitudes of entries with same addresses.\n",
    "5. Find the missing latitudes and longitudes for the addresses using API.\n",
    "6. Remove/merge unnecessary columns and create final dataframe.\n",
    "7. Write the final dataframe into excel."
   ]
  },
  {
   "cell_type": "markdown",
   "metadata": {},
   "source": [
    "### Libraries"
   ]
  },
  {
   "cell_type": "code",
   "execution_count": 34,
   "metadata": {
    "collapsed": true
   },
   "outputs": [],
   "source": [
    "import os.path\n",
    "import pandas as pd\n",
    "import numpy as np\n",
    "from geopy.geocoders import Nominatim # Required to find latitudes and longitudes of places\n",
    "from pandas import ExcelWriter"
   ]
  },
  {
   "cell_type": "markdown",
   "metadata": {},
   "source": [
    "### Important constants"
   ]
  },
  {
   "cell_type": "code",
   "execution_count": 35,
   "metadata": {
    "collapsed": true
   },
   "outputs": [],
   "source": [
    "INPUT_FILE_NAME = 'data/Network Data Lists-7-14.xlsx'\n",
    "OUTPUT_FILE_NAME = 'data/Final_dataset.xlsx'\n",
    "INPUT_COLUMNS = ['Name', 'List_ID', 'Year', 'Reformatted_Name','Gender', 'is_from_London', 'London_Street',\n",
    "                 'London_Region', 'London_Lat_Long', 'City','Non_London_City_Lat_Long', 'Nation']\n",
    "OUTPUT_COLUMNS = ['Name', 'Reformatted_Name', 'List_ID', 'Year','Gender', 'is_from_London', 'London_Street',\n",
    "                 'London_Region', 'City', 'Nation', 'Lat_Long']\n",
    "SHEETS = None"
   ]
  },
  {
   "cell_type": "markdown",
   "metadata": {},
   "source": [
    "### 1. Read all the sheets in excel file(input) to a list of dataframes."
   ]
  },
  {
   "cell_type": "code",
   "execution_count": 36,
   "metadata": {
    "collapsed": true
   },
   "outputs": [],
   "source": [
    "# Returns list of dataframes\n",
    "def read_input():\n",
    "    global SHEETS\n",
    "    df_list = []\n",
    "    xl = pd.ExcelFile(INPUT_FILE_NAME)\n",
    "    SHEETS = xl.sheet_names[:-1]        # Remove last sheet(Project Details)\n",
    "    print(\"Sheets in dataframe\")\n",
    "    print(SHEETS)\n",
    "    for i in range(len(SHEETS)):\n",
    "        df = xl.parse(SHEETS[i])\n",
    "        df_list.append(df)\n",
    "    return df_list"
   ]
  },
  {
   "cell_type": "markdown",
   "metadata": {},
   "source": [
    "### 2. Standardize the column names."
   ]
  },
  {
   "cell_type": "code",
   "execution_count": 37,
   "metadata": {
    "collapsed": true
   },
   "outputs": [],
   "source": [
    "def standardize_column_names(df_list):\n",
    "    for df in df_list:\n",
    "        df.columns = INPUT_COLUMNS + list(df.columns)[len(INPUT_COLUMNS):]\n",
    "    return df_list\n",
    "\n",
    "# Utility function to check column names\n",
    "def check_column_names(df_list):\n",
    "    for df in df_list:\n",
    "        print(df.columns[:len(INPUT_COLUMNS)])"
   ]
  },
  {
   "cell_type": "markdown",
   "metadata": {},
   "source": [
    "### 3. Match the names in different sheets and update corresponding addresses."
   ]
  },
  {
   "cell_type": "code",
   "execution_count": null,
   "metadata": {
    "collapsed": true
   },
   "outputs": [],
   "source": []
  },
  {
   "cell_type": "markdown",
   "metadata": {},
   "source": [
    "### 4. Update the latitudes and longitudes of entries with same addresses."
   ]
  },
  {
   "cell_type": "code",
   "execution_count": null,
   "metadata": {
    "collapsed": true
   },
   "outputs": [],
   "source": []
  },
  {
   "cell_type": "markdown",
   "metadata": {},
   "source": [
    "### 5. Find the missing latitudes and longitudes for the addresses using API."
   ]
  },
  {
   "cell_type": "code",
   "execution_count": null,
   "metadata": {
    "collapsed": true
   },
   "outputs": [],
   "source": []
  },
  {
   "cell_type": "markdown",
   "metadata": {},
   "source": [
    "### 6. Remove/merge unnecessary columns and create final dataframe."
   ]
  },
  {
   "cell_type": "code",
   "execution_count": null,
   "metadata": {
    "collapsed": true
   },
   "outputs": [],
   "source": []
  },
  {
   "cell_type": "markdown",
   "metadata": {},
   "source": [
    "### 7. Write the final dataframe into excel."
   ]
  },
  {
   "cell_type": "code",
   "execution_count": 38,
   "metadata": {
    "collapsed": true
   },
   "outputs": [],
   "source": [
    "def save_xls(df_list):\n",
    "    global SHEETS\n",
    "    writer = ExcelWriter(OUTPUT_FILE_NAME)\n",
    "    for i in range(len(SHEETS)):\n",
    "        df_list[i].to_excel(writer,SHEETS[i])\n",
    "    writer.save()"
   ]
  },
  {
   "cell_type": "markdown",
   "metadata": {},
   "source": [
    "## Client"
   ]
  },
  {
   "cell_type": "code",
   "execution_count": 39,
   "metadata": {},
   "outputs": [
    {
     "name": "stdout",
     "output_type": "stream",
     "text": [
      "Sheets in dataframe\n",
      "['Emma Lyon 1812', 'Bolaffey 1820', 'Polack 1830', ' Moss 1839', ' Infant 1841', ' VOJ 1842-45', 'Belisario 1856']\n"
     ]
    }
   ],
   "source": [
    "df_list = read_input()"
   ]
  },
  {
   "cell_type": "code",
   "execution_count": 40,
   "metadata": {},
   "outputs": [],
   "source": [
    "df_list = standardize_column_names(df_list)\n",
    "#check_column_names(df_list)"
   ]
  },
  {
   "cell_type": "code",
   "execution_count": 41,
   "metadata": {},
   "outputs": [],
   "source": [
    "save_xls(df_list)"
   ]
  },
  {
   "cell_type": "code",
   "execution_count": null,
   "metadata": {
    "collapsed": true
   },
   "outputs": [],
   "source": []
  }
 ],
 "metadata": {
  "kernelspec": {
   "display_name": "Python [default]",
   "language": "python",
   "name": "python3"
  },
  "language_info": {
   "codemirror_mode": {
    "name": "ipython",
    "version": 3
   },
   "file_extension": ".py",
   "mimetype": "text/x-python",
   "name": "python",
   "nbconvert_exporter": "python",
   "pygments_lexer": "ipython3",
   "version": "3.5.2"
  }
 },
 "nbformat": 4,
 "nbformat_minor": 2
}
